{
  "nbformat": 4,
  "nbformat_minor": 0,
  "metadata": {
    "colab": {
      "provenance": [],
      "include_colab_link": true
    },
    "kernelspec": {
      "name": "python3",
      "display_name": "Python 3"
    },
    "language_info": {
      "name": "python"
    }
  },
  "cells": [
    {
      "cell_type": "markdown",
      "metadata": {
        "id": "view-in-github",
        "colab_type": "text"
      },
      "source": [
        "<a href=\"https://colab.research.google.com/github/thendralvanans/Thinkful-Project/blob/main/Capstone_I_Yulu_Research_Proposal.ipynb\" target=\"_parent\"><img src=\"https://colab.research.google.com/assets/colab-badge.svg\" alt=\"Open In Colab\"/></a>"
      ]
    },
    {
      "cell_type": "markdown",
      "source": [
        "#Overview"
      ],
      "metadata": {
        "id": "dEkbRO29Oq4D"
      }
    },
    {
      "cell_type": "markdown",
      "source": [
        "In this research project, we are going to analyze the Yulu data to understand if any factors such as Working Day, season, weather etc. have any impact on the electric cycles rented.\n",
        "As the mobility service provider, Yulu offers cycles for the daily commute  as a mission to eliminate traffic congestion.\n",
        "As a company, it is always important to assess the various factors that impact the demand for these shared electric cycles, so that they can improve the revenue and achieve their objective by providing continuous improvement in quality of service."
      ],
      "metadata": {
        "id": "NrWIUkkuOssR"
      }
    },
    {
      "cell_type": "markdown",
      "source": [
        "#Data"
      ],
      "metadata": {
        "id": "YQfyWJnCRiO7"
      }
    },
    {
      "cell_type": "markdown",
      "source": [
        "The dataset we are going to leverage in this research contains some key information about yulu serviceability data such as (datetime, season, holiday, workingday, weather, temperature, humidity, windspeed, count of total rental bikes)\n",
        "  \n",
        "This datasets containing around 10k rows and 12 columns has been imported for analysis.\n",
        "\n",
        "**Link** - https://github.com/thendralvanans/Thinkful-Project/blob/main/yulu_bike_sharing_dataset.csv\n",
        "\n",
        "**NOTE**: This dataset is FICTIONAL! Does not represent real company data."
      ],
      "metadata": {
        "id": "sZWimuffRkde"
      }
    },
    {
      "cell_type": "markdown",
      "source": [
        "#Research Design"
      ],
      "metadata": {
        "id": "yksykVP8VKEP"
      }
    },
    {
      "cell_type": "markdown",
      "source": [
        "##Dataset Features"
      ],
      "metadata": {
        "id": "3XZkRQoEbaU7"
      }
    },
    {
      "cell_type": "markdown",
      "source": [
        "Currently, the dataset that we're going to use this in this research contains the following features:\n",
        "\n",
        "* datetime: Date and time of the bike rental.\n",
        "* season: Categorical variable representing the season (1: Spring, 2: Summer, 3: Fall, 4: Winter).\n",
        "* holiday: Indicates if the day is a public holiday (1: Holiday, 0: Non-holiday).\n",
        "* workingday: Identifies working days (1: Working day, 0: Weekend or holiday).\n",
        "* weather: Categorical variable representing weather conditions:\n",
        "    * 1: Clear, few clouds, partly cloudy.\n",
        "    * 2: Mist + cloudy, mist + broken clouds, mist + few clouds.\n",
        "    * 3: Light snow, light rain + thunderstorm + scattered clouds, light rain + scattered clouds.\n",
        "    * 4: Heavy rain + ice pellets + thunderstorm + mist, snow + fog.\n",
        "* humidity: Relative humidity in percentage.\n",
        "* windspeed: Wind speed in km/h.\n",
        "* count: Total count of rented bikes, including both casual and registered users.\n"
      ],
      "metadata": {
        "id": "FVChM6LqVquW"
      }
    },
    {
      "cell_type": "markdown",
      "source": [
        "##Business Questions"
      ],
      "metadata": {
        "id": "icBYfalqXkoA"
      }
    },
    {
      "cell_type": "markdown",
      "source": [
        "In this research, we are going to analyze our dataset so that we can try to answer the following business questions:\n",
        "\n",
        "* Does the Working Day has effect on number of electric cycles rented?\n",
        "* Does the No. of cycles rented similar or different in different seasons?\n",
        "* Does the No. of cycles rented similar or different in different weather?\n"
      ],
      "metadata": {
        "id": "jrYnwXA9bzub"
      }
    },
    {
      "cell_type": "markdown",
      "source": [
        "##Hypothesis Testing"
      ],
      "metadata": {
        "id": "anZWyNgNeWQE"
      }
    },
    {
      "cell_type": "markdown",
      "source": [
        "As part of this research, we are going to conduct the following hypothesis testing:"
      ],
      "metadata": {
        "id": "DgLMyZwHeYkC"
      }
    },
    {
      "cell_type": "markdown",
      "source": [
        "####Hypothesis testing based on the number of electric cycles rented on working days versus non-working days"
      ],
      "metadata": {
        "id": "J2u_G0hte8Jo"
      }
    },
    {
      "cell_type": "markdown",
      "source": [
        "* Null Hypothesis (H0): The number of electric cycles rented is the same on working days and non-working days.\n",
        "\n",
        "* Alternative Hypothesis (H1): The number of electric cycles rented is different on working days compared to non-working days.\n",
        "\n",
        "We'll use t-test to perform our hypothesis testing on above.\n"
      ],
      "metadata": {
        "id": "qxXAK210fOE2"
      }
    },
    {
      "cell_type": "markdown",
      "source": [
        "####Hypothesis testing based on the Number of Cycles Rented in Different Seasons"
      ],
      "metadata": {
        "id": "QxAgKNJuft3w"
      }
    },
    {
      "cell_type": "markdown",
      "source": [
        "* Null Hypothesis (H0): The number of electric cycles rented is the same across different seasons.\n",
        "\n",
        "* Alternative Hypothesis (H1): The number of electric cycles rented differs across seasons.\n",
        "\n",
        "We'll use ANOVA test to perform our hypothesis testing on above."
      ],
      "metadata": {
        "id": "Sn4SMEawgGlC"
      }
    },
    {
      "cell_type": "markdown",
      "source": [
        "####Hypothesis testing based on the Number of Cycles Rented in Different Weather conditions"
      ],
      "metadata": {
        "id": "tc-BLsaWgb0-"
      }
    },
    {
      "cell_type": "markdown",
      "source": [
        "* Null Hypothesis (H0): The number of electric cycles rented is the same across different weather conditions.\n",
        "\n",
        "* Alternative Hypothesis (H1): The number of electric cycles rented differs across weather conditions.\n",
        "\n",
        "We'll use ANOVA test to perform our hypothesis testing on above."
      ],
      "metadata": {
        "id": "qKtXzYmqhCVG"
      }
    },
    {
      "cell_type": "markdown",
      "source": [
        "##Audience"
      ],
      "metadata": {
        "id": "WoWCrNgshyG8"
      }
    },
    {
      "cell_type": "markdown",
      "source": [
        "We believe that the Yulu company will find this research outcome very helpful.\n",
        "We hope that the results will help our audience review and improve their business by knowing the variables which are significant in predicting the demand for shared electric cycles in the market. Thus helps the company's growth and performance to achieve their objective"
      ],
      "metadata": {
        "id": "jeJKfQoJkEOb"
      }
    }
  ]
}
